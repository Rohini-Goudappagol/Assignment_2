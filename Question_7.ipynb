# for this code im getting the correct Table in both Vs code and Google colab i dont know why it is not showing here
{
  "nbformat": 4,
  "nbformat_minor": 0,
  "metadata": {
    "colab": {
      "provenance": []
    },
    "kernelspec": {
      "name": "python3",
      "display_name": "Python 3"
    },
    "language_info": {
      "name": "python"
    }
  },
  "cells": [
    {
      "cell_type": "code",
      "execution_count": null,
      "metadata": {
        "id": "GnRMDLU8TS0R"
      },
      "outputs": [],
      "source": []
    },
    {
      "cell_type": "markdown",
      "source": [
        "7. Build a complex nested list structure representing a multi-level table of contents. Use unordered lists (< ul>) and list items (< li>) with inline-block styling to create a structured layout. Apply formatting tags to enhance the presentation of list items.\n",
        "    - The  table of contents are diplayed below\n",
        "    <!DOCTYPE html>\n",
        "<html lang=\"en\">\n",
        "<head>\n",
        "    <meta charset=\"UTF-8\">\n",
        "    <meta name=\"viewport\" content=\"width=device-width, initial-scale=1.0\">\n",
        "    <title></title>\n",
        "</head>\n",
        "<body>\n",
        "    <div>\n",
        "       \n",
        "        <table style=\"border: 2px solid black;\">\n",
        "            <tr>\n",
        "                <td>\n",
        "                    <h1>Table of Contents</h1>\n",
        "                    <ul type=\"circle\">\n",
        "                        <li><u style=\"color: blue;\">Part 1 : Introduction</u></li>\n",
        "                        <li><u style=\"color: blue;\">Part 2 : Getting Started</u></li>\n",
        "                        <li>\n",
        "                            <ul>\n",
        "                                <li><u style=\"color: blue;\">2.1 Installing the Software</u></li>\n",
        "                                <li><u style=\"color: blue;\">2.2 Creating a New Project</u></li>\n",
        "                                <li>\n",
        "                                    <ul>\n",
        "                                        <li> <u style=\"color: blue;\">2.2.1 Project Templates</u></li>\n",
        "                                        <li><u style=\"color: blue;\">2.2.2 Customizing Settings</u></li>\n",
        "                                    </ul>\n",
        "                                </li>\n",
        "                                <li><u style=\"color: blue;\">2.3 Exploring the Interface</u></li>\n",
        "                                <li>\n",
        "                                    <ul>\n",
        "                                        <li><u style=\"color: blue;\">2.3.1 Toolbar Features</u></li>\n",
        "                                        <li><u style=\"color: blue;\">2.3.2 Panel Layout</u></li>\n",
        "                                        <li>\n",
        "                                            <ul>\n",
        "                                                <li><u style=\"color: blue;\">2.3.2.1 Docking Panels</u></li>\n",
        "                                                <li><u style=\"color: blue;\">2.3.2.2 Tabbed Interface</u></li>\n",
        "                                            </ul>\n",
        "                                        </li>\n",
        "                                    </ul>\n",
        "                                </li>\n",
        "                            </ul>\n",
        "                        </li>\n",
        "                        <li><u style=\"color: blue;\">Part 3 : Advanced Topics</u></li>\n",
        "                        <li>\n",
        "                            <ul>\n",
        "                                <li><u style=\"color: blue;\">3.1 Working with Plugins</u></li>\n",
        "                                <li>\n",
        "                                    <ul>\n",
        "                                        <li><u style=\"color: blue;\">3.1.1 Installing Plugins</u></li>\n",
        "                                        <li><u style=\"color: blue;\">3.1.2 Plugin Configuration</u></li>\n",
        "                                    </ul>\n",
        "                                </li>\n",
        "                                <li><u style=\"color: blue;\">3.2 Customizing the UI</u></li>\n",
        "                                <li>\n",
        "                                    <ul>\n",
        "                                        <li><u style=\"color: blue;\">3.2.1 Changing Themes</u></li>\n",
        "                                        <li><u style=\"color: blue;\">3.2.2 Configuring Shortcuts</u></li>\n",
        "                                    </ul>\n",
        "                                </li>\n",
        "                                <li><u style=\"color: blue;\">3.3 Optimizing Performance</u></li>\n",
        "                                <li>\n",
        "                                    <ul>\n",
        "                                        <li><u style=\"color: blue;\">3.3.1 Caching Strategies</u></li>\n",
        "                                        <li><u style=\"color: blue;\">3.3.2 Resource Minification</u></li>\n",
        "                                    </ul>\n",
        "                                </li>\n",
        "                            </ul>\n",
        "                        </li>\n",
        "                        <li><u style=\"color: blue;\">Part 4 : Conclusion</u></li>\n",
        "                    </ul>\n",
        "                </td>\n",
        "            </tr>\n",
        "        </table>\n",
        "    </div>\n",
        "</body>\n",
        "</html>\n",
        "\n",
        "\n",
        "    \n",
        "                            \n",
        "                           \n"
      ],
      "metadata": {
        "id": "F-CUIcXpTVeB"
      }
    }
  ]
}
