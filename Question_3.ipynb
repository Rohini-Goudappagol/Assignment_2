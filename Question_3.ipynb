{
  "nbformat": 4,
  "nbformat_minor": 0,
  "metadata": {
    "colab": {
      "provenance": []
    },
    "kernelspec": {
      "name": "python3",
      "display_name": "Python 3"
    },
    "language_info": {
      "name": "python"
    }
  },
  "cells": [
    {
      "cell_type": "code",
      "execution_count": null,
      "metadata": {
        "id": "XiYbTFCEQIVm"
      },
      "outputs": [],
      "source": []
    },
    {
      "cell_type": "markdown",
      "source": [
        "3. Build a simple blog web page with 3 pages home, web development, and web design. Each page must contain hyperlinks to other pages in the top, a heading of the page topic and a paragraph of information.For the home page you can add some information about yourself.\n",
        "# 1. Home.html     \n",
        "<!DOCTYPE html>\n",
        "<html lang=\"en\">\n",
        "<head>\n",
        "    <meta charset=\"UTF-8\">\n",
        "    <meta name=\"viewport\" content=\"width=device-width, initial-scale=1.0\">\n",
        "    <title>Home - My Blog</title>\n",
        "</head>\n",
        "<body>\n",
        "    <header>\n",
        "        <nav>\n",
        "            <ul>\n",
        "                <li><a href=\"index.html\">Home</a></li>\n",
        "                <li><a href=\"web-development.html\">Web Development</a></li>\n",
        "                <li><a href=\"web-design.html\">Web Design</a></li>\n",
        "            </ul>\n",
        "        </nav>\n",
        "    </header>\n",
        "    <div>\n",
        "    <h1>Welcome to My Blog</h1>\n",
        "    <p>Hi! I'm Rohini, a passionate web developer and designer. This blog shares my thoughts on web development and design. Stay tuned for useful tips and resources!</p>\n",
        "    <div>\n",
        "</body>\n",
        "</html>\n",
        "\n",
        "\n",
        "\n",
        "# 2. Web-design.html\n",
        "<!DOCTYPE html>\n",
        "<html lang=\"en\">\n",
        "<head>\n",
        "    <meta charset=\"UTF-8\">\n",
        "    <meta name=\"viewport\" content=\"width=device-width, initial-scale=1.0\">\n",
        "    <title>Web Design - My Blog</title>\n",
        "</head>\n",
        "<body>\n",
        "    <header>\n",
        "        <nav>\n",
        "            <ul>\n",
        "                <li><a href=\"index.html\">Home</a></li>\n",
        "                <li><a href=\"web-development.html\">Web Development</a></li>\n",
        "                <li><a href=\"web-design.html\">Web Design</a></li>\n",
        "            </ul>\n",
        "        </nav>\n",
        "    </header>\n",
        "      <div>\n",
        "    <h1>Web Design</h1>\n",
        "    <p>Web design is about creating visually appealing and user-friendly websites. A good web designer focuses on layout, color schemes, typography, and ensuring that the website is responsive across different devices. I enjoy crafting designs that not only look good but also provide a seamless user experience.</p>\n",
        "    </div>\n",
        "    \n",
        "</body>\n",
        "</html>\n",
        "\n",
        "# 3. Web-development.html\n",
        "<!DOCTYPE html>\n",
        "<html lang=\"en\">\n",
        "<head>\n",
        "    <meta charset=\"UTF-8\">\n",
        "    <meta name=\"viewport\" content=\"width=device-width, initial-scale=1.0\">\n",
        "    <title>Web Design - My Blog</title>\n",
        "</head>\n",
        "<body>\n",
        "    <header>\n",
        "        <nav>\n",
        "            <ul>\n",
        "                <li><a href=\"index.html\">Home</a></li>\n",
        "                <li><a href=\"web-development.html\">Web Development</a></li>\n",
        "                <li><a href=\"web-design.html\">Web Design</a></li>\n",
        "            </ul>\n",
        "        </nav>\n",
        "    </header>\n",
        "    <div>\n",
        "    <h1>Web Design</h1>\n",
        "    <p>Web design is about creating visually appealing and user-friendly websites. A good web designer focuses on layout, color schemes, typography, and ensuring that the website is responsive across different devices. I enjoy crafting designs that not only look good but also provide a seamless user experience.</p>\n",
        "    </div>\n",
        "</body>\n",
        "</html>\n"
      ],
      "metadata": {
        "id": "dsWAIBHqQKIs"
      }
    }
  ]
}