{
  "nbformat": 4,
  "nbformat_minor": 0,
  "metadata": {
    "colab": {
      "provenance": []
    },
    "kernelspec": {
      "name": "python3",
      "display_name": "Python 3"
    },
    "language_info": {
      "name": "python"
    }
  },
  "cells": [
    {
      "cell_type": "code",
      "execution_count": null,
      "metadata": {
        "id": "U7DkHux-SVpg"
      },
      "outputs": [],
      "source": []
    },
    {
      "cell_type": "markdown",
      "source": [
        "5.  Create a description list of full stack web development tech stack, using the < dl> tag. Each term should be a tech stack name and each description should be a brief explanation of what the tech stack is used for.\n",
        "      - <!DOCTYPE html>\n",
        "<html lang=\"en\">\n",
        "<head>\n",
        "    <meta charset=\"UTF-8\">\n",
        "    <meta name=\"viewport\" content=\"width=device-width, initial-scale=1.0\">\n",
        "    <title></title>\n",
        "</head>\n",
        "<body>\n",
        "    <div>\n",
        "    <dl>\n",
        "        <dt>HTML</dt>\n",
        "        <dd>The standard markup language used to create the structure of web pages.</dd>\n",
        "    \n",
        "        <dt>CSS</dt>\n",
        "        <dd>Stylesheet language used to design the look and layout of web pages.</dd>\n",
        "    \n",
        "        <dt>JavaScript</dt>\n",
        "        <dd>A programming language used to add interactivity and dynamic behavior to web applications.</dd>\n",
        "    \n",
        "        <dt>React.js</dt>\n",
        "        <dd>A JavaScript library for building user interfaces, commonly used for single-page applications.</dd>\n",
        "    \n",
        "        <dt>Vue.js</dt>\n",
        "        <dd>A progressive JavaScript framework used for building user interfaces and single-page applications.</dd>\n",
        "    \n",
        "        <dt>Angular</dt>\n",
        "        <dd>A TypeScript-based framework for building scalable and dynamic web applications.</dd>\n",
        "    \n",
        "        <dt>Node.js</dt>\n",
        "        <dd>A runtime environment that allows JavaScript to be executed on the server side.</dd>\n",
        "    \n",
        "        <dt>Express.js</dt>\n",
        "        <dd>A lightweight Node.js framework used for building web servers and APIs.</dd>\n",
        "    \n",
        "        <dt>Next.js</dt>\n",
        "        <dd>A React framework that enables server-side rendering and static site generation.</dd>\n",
        "    \n",
        "        <dt>NestJS</dt>\n",
        "        <dd>A TypeScript-based framework for building scalable and maintainable backend applications.</dd>\n",
        "    \n",
        "        <dt>MongoDB</dt>\n",
        "        <dd>A NoSQL database that stores data in flexible, JSON-like documents.</dd>\n",
        "    \n",
        "        <dt>PostgreSQL</dt>\n",
        "        <dd>A powerful, open-source relational database management system.</dd>\n",
        "    \n",
        "        <dt>MySQL</dt>\n",
        "        <dd>A widely used relational database system for managing structured data.</dd>\n",
        "    \n",
        "        <dt>Firebase</dt>\n",
        "        <dd>A Backend-as-a-Service (BaaS) that provides real-time database, authentication, and cloud functions.</dd>\n",
        "    \n",
        "        <dt>GraphQL</dt>\n",
        "        <dd>A query language for APIs that allows clients to request only the data they need.</dd>\n",
        "    \n",
        "        <dt>RESTful API</dt>\n",
        "        <dd>A web service design pattern that follows REST principles for building scalable APIs.</dd>\n",
        "    \n",
        "        <dt>Docker</dt>\n",
        "        <dd>A platform for developing, shipping, and running applications in containers.</dd>\n",
        "    \n",
        "        <dt>Kubernetes</dt>\n",
        "        <dd>An open-source system for automating the deployment and management of containerized applications.</dd>\n",
        "    \n",
        "        <dt>Git</dt>\n",
        "        <dd>A version control system for tracking changes in source code during development.</dd>\n",
        "    \n",
        "        <dt>GitHub</dt>\n",
        "        <dd>A code hosting platform for collaboration, version control, and repository management.</dd>\n",
        "    \n",
        "        <dt>CI/CD (Continuous Integration/Continuous Deployment)</dt>\n",
        "        <dd>Practices and tools that automate code integration, testing, and deployment.</dd>\n",
        "    </dl>\n",
        "    </div>\n",
        "</body>\n",
        "</html>"
      ],
      "metadata": {
        "id": "KC7nWpqcSYV6"
      }
    }
  ]
}