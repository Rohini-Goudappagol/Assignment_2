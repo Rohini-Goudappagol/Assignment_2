{
  "nbformat": 4,
  "nbformat_minor": 0,
  "metadata": {
    "colab": {
      "provenance": []
    },
    "kernelspec": {
      "name": "python3",
      "display_name": "Python 3"
    },
    "language_info": {
      "name": "python"
    }
  },
  "cells": [
    {
      "cell_type": "code",
      "execution_count": null,
      "metadata": {
        "id": "gRZQD4dfWpVe"
      },
      "outputs": [],
      "source": []
    },
    {
      "cell_type": "markdown",
      "source": [
        "1. Build a simple webpage that displays text as shown in the below image.\n",
        "    - <!DOCTYPE html>\n",
        "<html lang=\"en\">\n",
        "<head>\n",
        "    <meta charset=\"UTF-8\">\n",
        "    <meta name=\"viewport\" content=\"width=device-width, initial-scale=1.0\">\n",
        "    <title></title>\n",
        "</head>\n",
        "<body>\n",
        "    <div>\n",
        "        <b>This text will be bolded</b> <br> <br>\n",
        "        <i>This text will be itallic</i> <br> <br>\n",
        "        <u>This text will be underlined</u> <br> <br>\n",
        "        <mark>This text will be highlighted</mark> <br> <br>\n",
        "        This is normal text <sup>This will be super scripted</sup> This is normal again <br> <br>\n",
        "        This is normal text <sub>This text will be subscripted</sub><br><br>\n",
        "        Normal Text <small>Small text</small><br><br>\n",
        "        <del>This text will be deleted</del>\n",
        "\n",
        "    </div>\n",
        "</body>\n",
        "</html>"
      ],
      "metadata": {
        "id": "AQDi9nBGWqxw"
      }
    },
    {
      "cell_type": "markdown",
      "source": [
        "2. Build a simple webpage that helps users navigate different web development-related websites. Note: On clicking the hyperlink the web pages should open in a new tab. Below is a reference image.\n",
        "    - <!DOCTYPE html>\n",
        "<html lang=\"en\">\n",
        "<head>\n",
        "    <meta charset=\"UTF-8\">\n",
        "    <meta name=\"viewport\" content=\"width=device-width, initial-scale=1.0\">\n",
        "    <title></title>\n",
        "</head>\n",
        "<body>\n",
        "    <div>\n",
        "        <h1>Navigate Me:</h1>\n",
        "        Take me to <a href=\"https://pwskills.com/online-degree/?source=pwskills.com&position=nav_bar&buttonText=online_degree&page_ref=profile_page\" target=\"_blank\">PW Skills</a> to buy a course. <br><br>\n",
        "        Take me to <a href=\"https://developer.mozilla.org/en-US/docs/Web/HTML\" target=\"_blank\">MDN doc</a> to know more about Web Developement.<br><br>\n",
        "        Take me to <a href=\"https://pwskills.com/support/\" target=\"_blank\">PW Skills Lab</a> to practice live coding\n",
        "    </div>\n",
        "</body>\n",
        "</html>"
      ],
      "metadata": {
        "id": "GYelu8GRWsOo"
      }
    }
  ]
}