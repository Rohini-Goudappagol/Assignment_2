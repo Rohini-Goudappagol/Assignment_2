{
  "nbformat": 4,
  "nbformat_minor": 0,
  "metadata": {
    "colab": {
      "provenance": []
    },
    "kernelspec": {
      "name": "python3",
      "display_name": "Python 3"
    },
    "language_info": {
      "name": "python"
    }
  },
  "cells": [
    {
      "cell_type": "code",
      "execution_count": null,
      "metadata": {
        "id": "J1-0HcVaTCKm"
      },
      "outputs": [],
      "source": []
    },
    {
      "cell_type": "markdown",
      "source": [
        "6. Create an ordered list of the full stack web development tech stack HTML, CSS, and JS. For each tech stack, create a table that lists the tech stack name, its primary use cases, and some key features or benefits. Below is a reference image.\n",
        "    - <!DOCTYPE html>\n",
        "<html lang=\"en\">\n",
        "<head>\n",
        "    <meta charset=\"UTF-8\">\n",
        "    <meta name=\"viewport\" content=\"width=device-width, initial-scale=1.0\">\n",
        "    <title></title>\n",
        "</head>\n",
        "<body>\n",
        "    <div>\n",
        "        <ol>\n",
        "            <li><h2>HTML</h2>\n",
        "                <table border=\"\" cellpadding=\"5\">\n",
        "                    <tr>\n",
        "                        <th><b>Primary Use Cases</b></th>\n",
        "                        <th><b>Key Features/Benefits</b></th>\n",
        "                    </tr>\n",
        "                    <tr>\n",
        "                        <td>\n",
        "                            Building the structure of the web page\n",
        "                        </td>\n",
        "                        <td>\n",
        "                            <ul type=\"circle\">\n",
        "                                <li>simple and easy to learn</li>\n",
        "                                <li>Compatible with all web browsers</li>\n",
        "                                <li>Allows for semantic mark up</li>\n",
        "                            </ul>\n",
        "                        </td>\n",
        "                    </tr>\n",
        "                </table>\n",
        "                <li><h2>CSS</h2></li>\n",
        "                <table border=\"\" cellpadding=\"5\">\n",
        "                    <tr>\n",
        "                        <th><b>Primary Use Cases</b></th>\n",
        "                        <th><b>Key Features/Benefits</b></th>\n",
        "                    </tr>\n",
        "                    <tr>\n",
        "                        <td>Styling and layout of web page</td>\n",
        "                        <td>\n",
        "                            <ul type=\"circle\">\n",
        "                                <li>Allows for seperation of content and presentation</li>\n",
        "                                <li>Enables responsive design</li>\n",
        "                                <li>Offers wide range of styling options</li>\n",
        "                            </ul>  \n",
        "                        </td>\n",
        "                    </tr>\n",
        "                </table>\n",
        "                <li><h2>Java Script</h2></li>\n",
        "        <table border=\"\" cellpadding=\"5\">\n",
        "                    <tr>\n",
        "                        <th><b>Primary Use Cases</b></th>\n",
        "                        <th><b>Key Features/Benefits</b></th>\n",
        "                    </tr>\n",
        "                    <tr>\n",
        "                        <td>To make web pages interactive and dynamic</td>\n",
        "                        <td>\n",
        "                            <ul type=\"circle\">\n",
        "                                <li>Reduces load on the server</li>\n",
        "                                <li>Extended Functionality</li>\n",
        "                                <li>Speed</li>\n",
        "                                <li>Rich Interface</li>\n",
        "                                <li>Versatality</li>\n",
        "                            </ul>  \n",
        "                        </td>\n",
        "                    </tr>\n",
        "                </table>\n",
        "            </li>\n",
        "        </ol>\n",
        "    </div>\n",
        "</body>\n",
        "</html>"
      ],
      "metadata": {
        "id": "gKw9jmzXTF3H"
      }
    }
  ]
}